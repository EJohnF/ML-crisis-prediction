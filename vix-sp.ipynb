{
 "cells": [
  {
   "cell_type": "code",
   "execution_count": 22,
   "metadata": {
    "collapsed": true
   },
   "outputs": [],
   "source": [
    "import pandas as pd\n",
    "import numpy as np\n",
    "from sklearn.neural_network import MLPRegressor\n",
    "from sklearn.metrics import mean_absolute_error\n",
    "from sklearn.model_selection import train_test_split"
   ]
  },
  {
   "cell_type": "code",
   "execution_count": 16,
   "metadata": {
    "collapsed": true
   },
   "outputs": [],
   "source": [
    "pure_data = pd.read_csv('VIX-SP.csv', ',')\n",
    "x = pure_data.as_matrix()[:, 0:3]\n",
    "y = pure_data.as_matrix()[:, 3]\n",
    "z = np.zeros(np.size(y))\n",
    "q = np.zeros((np.size(y),3))\n",
    "for i in range(np.size(y)):\n",
    "    if i != 0:\n",
    "        q[i,0] = x[i,0]\n",
    "        q[i,1] = x[i,1]\n",
    "        q[i,2] = (x[i,2]-x[i-1,2])/x[i-1,2]\n",
    "        z[i] = (y[i] - y[i-1]) / y[i-1]\n",
    "x=q\n",
    "y=z"
   ]
  },
  {
   "cell_type": "code",
   "execution_count": 53,
   "metadata": {},
   "outputs": [
    {
     "name": "stdout",
     "output_type": "stream",
     "text": [
      "0.00765802633515\n"
     ]
    }
   ],
   "source": [
    "X_train, X_test, y_train, y_test = train_test_split(x, y, test_size=0.4, random_state=0)\n",
    "clf = MLPRegressor(hidden_layer_sizes=(200,100, 400), activation='logistic', solver='sgd')\n",
    "clf.fit(X_train, y_train)\n",
    "y_pred = clf.predict(X_test)\n",
    "\n",
    "res = mean_absolute_error(y_test, y_pred)\n",
    "print(res)"
   ]
  },
  {
   "cell_type": "code",
   "execution_count": 54,
   "metadata": {},
   "outputs": [
    {
     "name": "stdout",
     "output_type": "stream",
     "text": [
      "2815\n1435\n"
     ]
    }
   ],
   "source": [
    "sum_dir = 0\n",
    "print(np.size(y_pred))\n",
    "for i in range(np.size(y_pred)):\n",
    "    if (y_pred[i] < 0 and y_test[i] < 0) or (y_pred[i] > 0 and y_test[i] > 0):\n",
    "        sum_dir = sum_dir + 1\n",
    "print(sum_dir)"
   ]
  },
  {
   "cell_type": "code",
   "execution_count": null,
   "metadata": {},
   "outputs": [],
   "source": [
    ""
   ]
  }
 ],
 "metadata": {
  "kernelspec": {
   "display_name": "Python 2",
   "language": "python",
   "name": "python2"
  },
  "language_info": {
   "codemirror_mode": {
    "name": "ipython",
    "version": 2.0
   },
   "file_extension": ".py",
   "mimetype": "text/x-python",
   "name": "python",
   "nbconvert_exporter": "python",
   "pygments_lexer": "ipython2",
   "version": "2.7.6"
  }
 },
 "nbformat": 4,
 "nbformat_minor": 0
}