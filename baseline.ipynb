{
 "cells": [
  {
   "cell_type": "code",
   "execution_count": 82,
   "metadata": {
    "collapsed": true
   },
   "outputs": [],
   "source": [
    "import pandas as pd\n",
    "import numpy as np\n",
    "import matplotlib.pyplot as plt\n",
    "from sklearn.ensemble import RandomForestClassifier\n",
    "from sklearn.metrics import recall_score\n",
    "from sklearn.linear_model import LogisticRegression\n",
    "from sklearn.svm import SVC\n",
    "from sklearn.linear_model import SGDClassifier"
   ]
  },
  {
   "cell_type": "code",
   "execution_count": 2,
   "metadata": {},
   "outputs": [],
   "source": [
    "pure_data = pd.read_csv('sp500_daily.csv', ',')\n",
    "N = len(pure_data['Date'])"
   ]
  },
  {
   "cell_type": "code",
   "execution_count": 108,
   "metadata": {},
   "outputs": [
    {
     "name": "stdout",
     "output_type": "stream",
     "text": [
      "3539040000\n"
     ]
    }
   ],
   "source": [
    "series = pure_data.as_matrix()[:,1:7]\n",
    "print(series[-1][-2])"
   ]
  },
  {
   "cell_type": "code",
   "execution_count": 158,
   "metadata": {},
   "outputs": [
    {
     "name": "stdout",
     "output_type": "stream",
     "text": [
      "3416 3416\n2500 916\n"
     ]
    }
   ],
   "source": [
    "x = []\n",
    "y = []\n",
    "treshold = -0.025\n",
    "for i in range(0, N-5, 5):\n",
    "    x.append([])\n",
    "    for j in range (i,i+5,1):\n",
    "        x[int(i/5)].extend(series[j])\n",
    "    if i > 0:\n",
    "        if (x[int(i/5)][-2]-x[int(i/5)-1][-2])/x[int(i/5)-1][-2] < treshold:\n",
    "            # 1 если от закрытия текущей недели до закрытия следующей произошло падение в более чем 3,5 процента\n",
    "            y.append(1)\n",
    "        else:\n",
    "            y.append(0)\n",
    "x = np.delete(x, 3416, 0)\n",
    "print(np.size(x,0), np.size(y))\n",
    "trainSize = 2500\n",
    "x_train = x[:trainSize]\n",
    "y_train = y[:trainSize]\n",
    "x_test = x[trainSize:]\n",
    "y_test = y[trainSize:]\n",
    "print(np.size(x_train,0), np.size(x_test,0))"
   ]
  },
  {
   "cell_type": "code",
   "execution_count": 159,
   "metadata": {},
   "outputs": [
    {
     "name": "stdout",
     "output_type": "stream",
     "text": [
      "916 504 107\n0.420560747664\n"
     ]
    }
   ],
   "source": [
    "clf = RandomForestClassifier(n_estimators=150)\n",
    "clf.fit(x_train, y_train)\n",
    "y_predict = clf.predict(x_test)\n",
    "res = recall_score(y_test, y_predict, average='binary')\n",
    "print(np.size(y_predict), sum(y_predict), sum(y_test))\n",
    "print(res) # the percent of crises, which was correctly predicted"
   ]
  },
  {
   "cell_type": "code",
   "execution_count": 160,
   "metadata": {},
   "outputs": [
    {
     "name": "stdout",
     "output_type": "stream",
     "text": [
      "916 53 107\n0.0747663551402\n"
     ]
    }
   ],
   "source": [
    "clf = LogisticRegression(class_weight={0: 0.15,1: 0.85})\n",
    "clf.fit(x_train, y_train)\n",
    "y_predict = clf.predict(x_test)\n",
    "res = recall_score(y_test, y_predict, average='binary')\n",
    "print(np.size(y_predict), sum(y_predict), sum(y_test))\n",
    "print(res)"
   ]
  },
  {
   "cell_type": "code",
   "execution_count": 163,
   "metadata": {},
   "outputs": [
    {
     "name": "stdout",
     "output_type": "stream",
     "text": [
      "0 107\n0.0\n"
     ]
    }
   ],
   "source": [
    "clf = SVC()\n",
    "clf.fit(x_train, y_train)\n",
    "y_predict = clf.predict(x_test)\n",
    "res = recall_score(y_test, y_predict, average='binary')\n",
    "print(sum(y_predict), sum(y_test))\n",
    "print(res) # процент верно предсказанных кризисов к общему количеству кризисов"
   ]
  },
  {
   "cell_type": "code",
   "execution_count": null,
   "metadata": {},
   "outputs": [],
   "source": [
    ""
   ]
  }
 ],
 "metadata": {
  "kernelspec": {
   "display_name": "Python 2",
   "language": "python",
   "name": "python2"
  },
  "language_info": {
   "codemirror_mode": {
    "name": "ipython",
    "version": 2.0
   },
   "file_extension": ".py",
   "mimetype": "text/x-python",
   "name": "python",
   "nbconvert_exporter": "python",
   "pygments_lexer": "ipython2",
   "version": "2.7.6"
  }
 },
 "nbformat": 4,
 "nbformat_minor": 0
}