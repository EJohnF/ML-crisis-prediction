{
 "cells": [
  {
   "cell_type": "code",
   "execution_count": 2,
   "metadata": {
    "collapsed": true
   },
   "outputs": [],
   "source": [
    "import pandas as pd\n",
    "import numpy as np\n",
    "import matplotlib.pyplot as plt\n",
    "from sklearn.ensemble import RandomForestClassifier\n",
    "from sklearn.metrics import recall_score\n",
    "from sklearn.metrics import precision_score\n",
    "from sklearn.metrics import accuracy_score\n",
    "from sklearn.linear_model import LogisticRegression\n",
    "from sklearn.svm import SVC\n",
    "from sklearn.neural_network import MLPClassifier"
   ]
  },
  {
   "cell_type": "code",
   "execution_count": 2,
   "metadata": {},
   "outputs": [],
   "source": [
    "def frange(start, stop, step):\n",
    "     x = start\n",
    "     while x < stop:\n",
    "         yield x\n",
    "         x += step"
   ]
  },
  {
   "cell_type": "code",
   "execution_count": 3,
   "metadata": {},
   "outputs": [
    {
     "name": "stdout",
     "output_type": "stream",
     "text": [
      "check that X and Y arrays equal size\n1454 1454\ntraning to test proportion\n1200 254\n"
     ]
    }
   ],
   "source": [
    "x = pd.read_csv('data_week_X.csv', ',').as_matrix()\n",
    "y = pd.read_csv('data_week_Y.csv', ',').as_matrix()\n",
    "Y = []\n",
    "for i in range(np.size(y)):\n",
    "    Y.append(y[i][0])\n",
    "y = Y\n",
    "print('check that X and Y arrays equal size')\n",
    "print(np.size(x,0), np.size(y))\n",
    "trainStart = 0\n",
    "trainEnd = 1200\n",
    "x_train = x[trainStart:trainEnd]\n",
    "y_train = y[trainStart:trainEnd]\n",
    "x_test = x[trainEnd:]\n",
    "y_test = y[trainEnd:]\n",
    "print('traning to test proportion')\n",
    "print(np.size(x_train,0), np.size(x_test,0))"
   ]
  },
  {
   "cell_type": "code",
   "execution_count": 15,
   "metadata": {},
   "outputs": [
    {
     "name": "stdout",
     "output_type": "stream",
     "text": [
      "test size: 254 number of crisis:  12\n"
     ]
    },
    {
     "name": "stdout",
     "output_type": "stream",
     "text": [
      "245 1.0 0.0489795918367\n[0 0 0 0 0 0 0 0 0 1 1 1 1 1 1 1 1 1 1 1 1 1 1 1 1 1 1 1 1 1 1 1 1 1 1 1 1\n 1 1 1 1 1 1 1 1 1 1 1 1 1 1 1 1 1 1 1 1 1 1 1 1 1 1 1 1 1 1 1 1 1 1 1 1 1\n 1 1 1 1 1 1 1 1 1 1 1 1 1 1 1 1 1 1 1 1 1 1 1 1 1 1 1 1 1 1 1 1 1 1 1 1 1\n 1 1 1 1 1 1 1 1 1 1 1 1 1 1 1 1 1 1 1 1 1 1 1 1 1 1 1 1 1 1 1 1 1 1 1 1 1\n 1 1 1 1 1 1 1 1 1 1 1 1 1 1 1 1 1 1 1 1 1 1 1 1 1 1 1 1 1 1 1 1 1 1 1 1 1\n 1 1 1 1 1 1 1 1 1 1 1 1 1 1 1 1 1 1 1 1 1 1 1 1 1 1 1 1 1 1 1 1 1 1 1 1 1\n 1 1 1 1 1 1 1 1 1 1 1 1 1 1 1 1 1 1 1 1 1 1 1 1 1 1 1 1 1 1 1 1]\n"
     ]
    }
   ],
   "source": [
    "print('test size:', np.size(y_predict), 'number of crisis: ', sum(y_test))\n",
    "\n",
    "clf = RandomForestClassifier(n_estimators=1000)\n",
    "clf.fit(x_train, y_train)\n",
    "y_predict = clf.predict(x_test)\n",
    "recall = recall_score(y_test, y_predict, average='binary')\n",
    "precision = precision_score(y_test, y_predict, average='binary')\n",
    "print(sum(y_predict), recall, precision)\n",
    "print(y_predict)"
   ]
  },
  {
   "cell_type": "code",
   "execution_count": 16,
   "metadata": {
    "collapsed": true
   },
   "outputs": [
    {
     "name": "stdout",
     "output_type": "stream",
     "text": [
      "1.00 \t 1.000\t 254 win over random =  0.0\n1.00 \t 1.000\t 254 win over random =  0.0\n1.00 \t 1.000\t 254 win over random =  0.0\n0.97 \t 0.917\t 247 win over random =  -0.0553333333333\n0.96 \t 0.917\t 245 win over random =  -0.0483333333333\n0.96 \t 0.917\t 245 win over random =  -0.0483333333333\n0.96 \t 0.917\t 244 win over random =  -0.0443333333333\n0.96 \t 0.917\t 244 win over random =  -0.0443333333333\n0.94 \t 0.917\t 238 win over random =  -0.0203333333333\n0.88 \t 0.917\t 223 win over random =  0.0386666666667\n0.82 \t 0.667\t 208 win over random =  -0.152333333333\n0.79 \t 0.667\t 201 win over random =  -0.124333333333\n0.73 \t 0.583\t 185 win over random =  -0.144666666667\n0.62 \t 0.583\t 157 win over random =  -0.0346666666667\n0.12 \t 0.167\t 31 win over random =  0.0446666666667\n0.26 \t 0.167\t 66 win over random =  -0.0933333333333\n0.16 \t 0.083\t 40 win over random =  -0.0736666666667\n0.10 \t 0.083\t 26 win over random =  -0.0186666666667\n0.07 \t 0.000\t 17 win over random =  -0.067\n0.04 \t 0.000\t 9 win over random =  -0.035\n0.02 \t 0.000\t 6 win over random =  -0.024\n0.02 \t 0.000\t 5 win over random =  -0.02\n0.02 \t 0.000\t 4 win over random =  -0.016\n0.02 \t 0.000\t 4 win over random =  -0.016\n0.01 \t 0.000\t 3 win over random =  -0.012\n0.01 \t 0.000\t 2 win over random =  -0.008\n0.01 \t 0.000\t "
     ]
    },
    {
     "name": "stdout",
     "output_type": "stream",
     "text": [
      "2 win over random =  -0.008\n0.01 \t 0.000\t 2 win over random =  -0.008\n0.01 \t 0.000\t 2 win over random =  -0.008\n0.01 \t 0.000\t 2 win over random =  -0.008\n"
     ]
    }
   ],
   "source": [
    "for w in frange(0, 0.3, 0.01):\n",
    "    clf = LogisticRegression(class_weight={0: w, 1: 1-w})\n",
    "    clf.fit(x_train, y_train)\n",
    "    y_predict = clf.predict(x_test)\n",
    "    res = recall_score(y_test, y_predict, average='binary')\n",
    "    random = round(sum(y_predict)/len(y_test), 3)\n",
    "    print('%.2f \\t' % random,'%.3f\\t' % round(res, 3), sum(y_predict), 'win over random = ', res-random)"
   ]
  },
  {
   "cell_type": "code",
   "execution_count": 17,
   "metadata": {},
   "outputs": [
    {
     "name": "stdout",
     "output_type": "stream",
     "text": [
      "[1 1 0 1 1 0 0 1 1 1 1 0 1 1 1 1 1 1 1 0 0 1 1 1 1 1 1 1 1 1 1 1 1 0 0 1 1\n 1 1 1 1 1 1 1 1 1 1 1 1 1 1 1 1 0 1 1 1 0 0 1 1 1 1 1 1 1 0 1 1 1 1 0 0 1\n 1 1 1 0 1 1 1 1 1 1 1 0 0 1 1 1 1 1 1 1 1 1 1 1 1 1 1 1 1 1 1 0 0 1 1 1 0\n 1 1 1 1 1 0 1 1 1 1 1 1 0 0 1 1 1 1 0 1 1 1 1 1 0 1 1 0 0 1 1 1 1 1 1 1 1\n 1 1 1 1 1 1 0 0 1 0 0 1 1 1 0 1 1 1 1 0 1 1 1 1 1 1 1 1 0 0 1 1 1 1 0 1 1\n 1 1 1 1 1 0 1 1 1 1 1 1 1 1 1 1 1 1 1 1 1 0 0 0 0 0 1 1 1 0 1 1 1 1 1 1 1\n 0 1 1 1 1 1 1 0 1 1 1 1 1 1 1 1 1 1 1 1 1 0 1 1 1 1 1 1 1 1 1 1]\n0 12\n0.0\n"
     ]
    }
   ],
   "source": [
    "clf = LogisticRegression(class_weight={0: 0.1, 1: 0.9})\n",
    "clf.fit(x_train, y_train)\n",
    "y_predict = clf.predict(x_test)\n",
    "print(y_predict)\n",
    "clf = SVC()\n",
    "clf.fit(x_train, y_train)\n",
    "y_predict = clf.predict(x_test)\n",
    "res = recall_score(y_test, y_predict, average='binary')\n",
    "print(sum(y_predict), sum(y_test))\n",
    "print(res)"
   ]
  },
  {
   "cell_type": "code",
   "execution_count": 18,
   "metadata": {},
   "outputs": [
    {
     "name": "stdout",
     "output_type": "stream",
     "text": [
      "254 27 12\n0.17 \t 0.07 \t 0.86 \t\n"
     ]
    }
   ],
   "source": [
    "clf = MLPClassifier( alpha=100, random_state=13, max_iter=1000)\n",
    "clf.fit(x_train, y_train)\n",
    "y_predict = clf.predict(x_test)\n",
    "recall = recall_score(y_test, y_predict, average='binary')\n",
    "precision = precision_score(y_test, y_predict, average='binary')\n",
    "accuracy = accuracy_score(y_test, y_predict)\n",
    "print(np.size(y_predict), sum(y_predict), sum(y_test))\n",
    "print('%.2f \\t' % round(recall, 3), '%.2f \\t' % round(precision, 3), '%.2f \\t' % round(accuracy, 3))"
   ]
  },
  {
   "cell_type": "code",
   "execution_count": 20,
   "metadata": {
    "collapsed": false
   },
   "outputs": [
    {
     "name": "stdout",
     "output_type": "stream",
     "text": [
      "frequence of crises prediction: 0.41 \t all crisis:  12\nrecall 0.58 \t precision 0.07 \t\nimprove over statistical random: 0.18 \t\naccuracy 0.60 \t\n"
     ]
    },
    {
     "data": {
      "image/png": "[encoded data removed]",
      "text/plain": [
       "<matplotlib.figure.Figure at 0x10a8e6a90>"
      ]
     },
     "metadata": {},
     "output_type": "display_data"
    },
    {
     "name": "stdout",
     "output_type": "stream",
     "text": [
      "missed crises: "
     ]
    },
    {
     "name": "stdout",
     "output_type": "stream",
     "text": [
      " 5\n"
     ]
    },
    {
     "data": {
      "image/png": "[encoded data removed]",
      "text/plain": [
       "<matplotlib.figure.Figure at 0x10ede80f0>"
      ]
     },
     "metadata": {},
     "output_type": "display_data"
    }
   ],
   "source": [
    "resRecall = 0\n",
    "for i in range(10):\n",
    "    for n in range(1,50,5):\n",
    "        for w in frange(0, 0.17, 0.005):\n",
    "            for r in range(1,20,1):\n",
    "                clf = RandomForestClassifier(n_estimators=n)\n",
    "                clf.fit(x_train, y_train)\n",
    "                y_predict_1 = clf.predict(x_test)\n",
    "                \n",
    "                clf = LogisticRegression(class_weight={0: w, 1: 1-w})\n",
    "                clf.fit(x_train, y_train)\n",
    "                y_predict_2 = clf.predict(x_test)\n",
    "                \n",
    "                clf = MLPClassifier(solver='lbfgs', alpha=0.01, random_state=r, max_iter=1000)\n",
    "                clf.fit(x_train, y_train)\n",
    "                y_predict_3 = clf.predict(x_test)\n",
    "                y_predict = []\n",
    "                for i in range(np.size(y_predict_1)):\n",
    "                    y_predict.append((y_predict_1[i] + y_predict_2[i] + y_predict_3[i])/3.0)\n",
    "                    if y_predict[i] > 0.4:\n",
    "                        y_predict[i] = 1\n",
    "                    else:\n",
    "                        y_predict[i] = 0\n",
    "                        \n",
    "                recall = recall_score(y_test, y_predict, average='binary')\n",
    "                if recall > resRecall and sum(y_predict)< 125:\n",
    "                    resRecall = recall\n",
    "                    print(recall, sum(y_predict), n, w, r)\n",
    "    print(i)\n",
    "print('result', resRecall)"
   ]
  },
  {
   "cell_type": "code",
   "execution_count": 41,
   "metadata": {
    "collapsed": false
   },
   "outputs": [
    {
     "name": "stdout",
     "output_type": "stream",
     "text": [
      "frequence of crises prediction: 0.41 \t all crisis:  12\nrecall 0.58 \t precision 0.07 \t\nimprove over statistical random: 0.18 \t\naccuracy 0.60 \t\n"
     ]
    },
    {
     "data": {
      "image/png": "[encoded data removed]",
      "text/plain": [
       "<matplotlib.figure.Figure at 0x10a8e6a90>"
      ]
     },
     "metadata": {},
     "output_type": "display_data"
    },
    {
     "name": "stdout",
     "output_type": "stream",
     "text": [
      "missed crises: "
     ]
    },
    {
     "name": "stdout",
     "output_type": "stream",
     "text": [
      " 5\n"
     ]
    },
    {
     "data": {
      "image/png": "[encoded data removed]",
      "text/plain": [
       "<matplotlib.figure.Figure at 0x10ede80f0>"
      ]
     },
     "metadata": {},
     "output_type": "display_data"
    }
   ],
   "source": [
    "n = 150\n",
    "w = 0.1325\n",
    "r = 7\n",
    "clf = RandomForestClassifier(n_estimators=n)\n",
    "clf.fit(x_train, y_train)\n",
    "y_predict_1 = clf.predict(x_test)\n",
    "\n",
    "clf = LogisticRegression(class_weight={0: w, 1: 1-w})\n",
    "clf.fit(x_train, y_train)\n",
    "y_predict_2 = clf.predict(x_test)\n",
    "\n",
    "clf = MLPClassifier(solver='lbfgs', alpha=0.01, random_state=r, max_iter=1000)\n",
    "clf.fit(x_train, y_train)\n",
    "y_predict_3 = clf.predict(x_test)\n",
    "y_predict = []\n",
    "for i in range(np.size(y_predict_1)):\n",
    "    y_predict.append((y_predict_1[i] + y_predict_2[i] + y_predict_3[i])/3.0)\n",
    "    if y_predict[i] > 0.4:\n",
    "        y_predict[i] = 1\n",
    "    else:\n",
    "        y_predict[i] = 0\n",
    "        \n",
    "recall = recall_score(y_test, y_predict, average='binary')\n",
    "precision = precision_score(y_test, y_predict, average='binary')\n",
    "accuracy = accuracy_score(y_test, y_predict)\n",
    "print('frequence of crises prediction: %.2f \\t' % round(sum(y_predict)/np.size(y_predict),2), 'all crisis: ', sum(y_test))\n",
    "print('recall %.2f \\t' % round(recall, 3), 'precision %.2f \\t' % round(precision, 3)) # the percent of crises, which was correctly predicted\n",
    "print('improve over statistical random: %.2f \\t' % round(recall - sum(y_predict)/np.size(y_predict),3))\n",
    "print('accuracy %.2f \\t' % round(accuracy, 3)) # the percent of crises, which was correctly predicted\n",
    "\n",
    "\n",
    "\n",
    "labels = 'Correct', 'Incorrect'\n",
    "sizes = [accuracy * np.size(y_test), (1 - accuracy) * np.size(y_test)]\n",
    "colors = ['green', 'red']\n",
    "explode = (0.1, 0)  # explode 1st slice\n",
    " \n",
    "# Plot\n",
    "plt.pie(sizes, explode=explode, labels=labels, colors=colors,\n",
    "        autopct='%1.1f%%', shadow=True, startangle=140)\n",
    " \n",
    "plt.axis('equal')\n",
    "plt.show()\n",
    "\n",
    "missed=0\n",
    "for i in range(254):\n",
    "    if (y_test[i] - y_predict[i]) == 1:\n",
    "        missed += 1\n",
    "print('missed crises: ', missed)\n",
    "\n",
    "\n",
    "\n",
    "labels2 = 'Predicted', 'Missed'\n",
    "sizes2 = [sum(y_test) - missed, missed]\n",
    "colors = ['green', 'red']\n",
    "explode = (0.1, 0)  # explode 1st slice\n",
    " \n",
    "# Plot\n",
    "plt.pie(sizes2, explode=explode, labels=labels2, colors=colors,\n",
    "        autopct='%1.1f%%', shadow=True, startangle=140)\n",
    " \n",
    "plt.axis('equal')\n",
    "plt.show()"
   ]
  },
  {
   "cell_type": "code",
   "execution_count": 31,
   "metadata": {},
   "outputs": [],
   "source": [
    ""
   ]
  },
  {
   "cell_type": "code",
   "execution_count": 31,
   "metadata": {},
   "outputs": [],
   "source": [
    ""
   ]
  },
  {
   "cell_type": "code",
   "execution_count": null,
   "metadata": {},
   "outputs": [],
   "source": [
    ""
   ]
  }
 ],
 "metadata": {
  "kernelspec": {
   "display_name": "Python 2",
   "language": "python",
   "name": "python2"
  },
  "language_info": {
   "codemirror_mode": {
    "name": "ipython",
    "version": 2.0
   },
   "file_extension": ".py",
   "mimetype": "text/x-python",
   "name": "python",
   "nbconvert_exporter": "python",
   "pygments_lexer": "ipython2",
   "version": "2.7.6"
  }
 },
 "nbformat": 4,
 "nbformat_minor": 0
}