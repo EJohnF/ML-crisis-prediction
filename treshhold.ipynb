{
 "cells": [
  {
   "cell_type": "code",
   "execution_count": 1,
   "metadata": {
    "collapsed": true
   },
   "outputs": [],
   "source": [
    "import pandas as pd\n",
    "import numpy as np\n",
    "import matplotlib.pyplot as plt"
   ]
  },
  {
   "cell_type": "code",
   "execution_count": 2,
   "metadata": {
    "collapsed": true
   },
   "outputs": [
    {
     "name": "stdout",
     "output_type": "stream",
     "text": [
      "        Adj Close\n0       17.090000\n1       16.650000\n2       16.940001\n3       16.900000\n4       17.350000\n5       17.209999\n6       17.230000\n7       17.260000\n8       17.330000\n9       17.139999\n10      17.490000\n11      17.610001\n12      17.340000\n13      17.820000\n14      17.860001\n15      17.950001\n16      18.070000\n17      18.330000\n18      18.200001\n19      18.709999\n20      18.650000\n21      18.790001\n22      19.260000\n23      18.969999\n24      19.139999\n25      17.690001\n26      17.670000\n27      16.870001\n28      17.590000\n29      17.690001\n...           ...\n3513  2399.290039\n3514  2390.899902\n3515  2381.729980\n3516  2415.820068\n3517  2439.070068\n3518  2431.770020\n3519  2433.149902\n3520  2438.300049\n3521  2423.409912\n3522  2425.179932\n3523  2459.270020\n3524  2472.540039\n3525  2472.100098\n3526  2476.830078\n3527  2441.320068\n3528  2425.550049\n3529  2443.050049\n3530  2476.550049\n3531  2461.429932\n3532  2500.229980\n3533  2502.219971\n3534  2519.360107\n3535  2549.330078\n3536  2553.169922\n3537  2575.209961\n3538  2581.070068\n3539  2587.840088\n3540  2582.300049\n3541  2585.639893\n3542  2585.639893\n\n[3543 rows x 1 columns]\n"
     ]
    }
   ],
   "source": [
    "pure_data = pd.read_csv('sp500.csv', ',')\n",
    "N = len(pure_data['Date'])\n",
    "del pure_data['Date']\n",
    "del pure_data['Open']\n",
    "del pure_data['High']\n",
    "del pure_data['Low']\n",
    "del pure_data['Close']\n",
    "del pure_data['Volume']\n",
    "print(pure_data)"
   ]
  },
  {
   "cell_type": "code",
   "execution_count": 3,
   "metadata": {
    "collapsed": true
   },
   "outputs": [
    {
     "name": "stdout",
     "output_type": "stream",
     "text": [
      "[   17.09        16.65        16.940001 ...,  2582.300049  2585.639893\n  2585.639893]\n"
     ]
    }
   ],
   "source": [
    "series = pure_data.as_matrix()[:, 0]\n",
    "print(series)"
   ]
  },
  {
   "cell_type": "code",
   "execution_count": 4,
   "metadata": {
    "collapsed": false
   },
   "outputs": [
    {
     "name": "stdout",
     "output_type": "stream",
     "text": [
      "-18.1954652474 14.1161357074\n"
     ]
    }
   ],
   "source": [
    "changes = []\n",
    "minValue = 0\n",
    "maxValue = 0\n",
    "for index, value in enumerate(series):\n",
    "    if index > 0:\n",
    "        prev = series[(index-1)]\n",
    "        diff = (value-prev)/prev*100\n",
    "        changes.append(diff)\n",
    "        if diff > maxValue:\n",
    "            maxValue = diff\n",
    "        if diff < minValue:\n",
    "            minValue = diff\n",
    "print(minValue, maxValue)"
   ]
  },
  {
   "cell_type": "code",
   "execution_count": 9,
   "metadata": {
    "collapsed": false
   },
   "outputs": [],
   "source": [
    "def frange(start, stop, step):\n",
    "     x = start\n",
    "     while x < stop:\n",
    "         yield x\n",
    "         x += step\n",
    "         \n",
    "def numberOfOccurrences(array, low, high):\n",
    "    result = 0\n",
    "    for value in array:\n",
    "        if low < value <= high:\n",
    "            result += 1\n",
    "    return result\n",
    "density = []\n",
    "distribution = []\n",
    "x = []\n",
    "weeksUntilSte = 0\n",
    "step = 0.1\n",
    "for i in frange(minValue, maxValue+step, step):\n",
    "    number = numberOfOccurrences(changes, i - step, i)\n",
    "    x.append(i)\n",
    "    weeksUntilSte += number\n",
    "    density.append(number)\n",
    "    distribution.append(weeksUntilSte / N)"
   ]
  },
  {
   "cell_type": "code",
   "execution_count": 10,
   "metadata": {
    "collapsed": true
   },
   "outputs": [
    {
     "name": "stdout",
     "output_type": "stream",
     "text": [
      "[1, 0, 0, 0, 0, 0, 0, 0, 0, 0, 0, 0, 0, 0, 0, 0, 0, 0, 0, 0, 0, 0, 0, 0, 0, 0, 0, 0, 0, 0, 0, 0, 0, 0, 0, 0, 0, 0, 0, 0, 0, 0, 0, 0, 0, 0, 0, 0, 0, 0, 0, 0, 0, 0, 0, 0, 0, 0, 0, 0, 1, 0, 0, 0, 0, 0, 1, 0, 0, 0, 0, 0, 0, 0, 0, 0, 0, 1, 0, 0, 0, 0, 0, 0, 0, 0, 0, 0, 1, 0, 0, 1, 0, 0, 0, 1, 0, 0, 0, 1, 0, 0, 0, 2, 0, 0, 0, 1, 1, 0, 0, 1, 3, 0, 4, 2, 1, 1, 2, 1, 1, 0, 2, 2, 0, 2, 1, 0, 3, 1, 0, 2, 2, 4, 4, 0, 7, 5, 5, 9, 9, 3, 7, 8, 8, 7, 9, 9, 9, 9, 8, 12, 15, 15, 14, 19, 28, 14, 24, 22, 30, 25, 30, 32, 42, 33, 49, 43, 46, 56, 50, 48, 62, 62, 59, 53, 66, 63, 65, 72, 83, 62, 79, 81, 88, 84, 86, 86, 95, 101, 88, 83, 70, 87, 94, 68, 61, 81, 68, 54, 57, 39, 28, 47, 43, 39, 28, 27, 25, 26, 24, 28, 20, 19, 11, 19, 8, 7, 10, 9, 13, 5, 6, 4, 10, 6, 7, 2, 4, 1, 5, 6, 2, 3, 4, 0, 5, 2, 1, 2, 2, 5, 2, 1, 2, 1, 1, 0, 0, 0, 1, 0, 1, 0, 1, 0, 3, 2, 1, 0, 1, 0, 0, 0, 0, 0, 0, 0, 0, 0, 0, 1, 0, 0, 0, 0, 0, 0, 0, 0, 0, 0, 0, 0, 0, 0, 0, 1, 0, 0, 1, 0, 0, 0, 0, 0, 0, 0, 0, 0, 0, 0, 0, 1, 0, 0, 0, 0, 0, 0, 0, 0, 0, 0, 0, 0, 0, 0, 0, 0, 0, 0, 0, 0, 1]\n"
     ]
    }
   ],
   "source": [
    "print(density)"
   ]
  },
  {
   "cell_type": "code",
   "execution_count": 13,
   "metadata": {
    "collapsed": false
   },
   "outputs": [
    {
     "data": {
      "image/png": "[encoded data removed]",
      "text/plain": [
       "<matplotlib.figure.Figure at 0x1121cd4a8>"
      ]
     },
     "metadata": {},
     "output_type": "display_data"
    }
   ],
   "source": [
    "plt.plot(x, density)\n",
    "plt.ylabel('number of week')\n",
    "plt.xlabel('growth / decrease in percentage')\n",
    "plt.show()"
   ]
  },
  {
   "cell_type": "markdown",
   "metadata": {},
   "source": [
    ""
   ]
  },
  {
   "cell_type": "code",
   "execution_count": 12,
   "metadata": {},
   "outputs": [
    {
     "data": {
      "image/png": "[encoded data removed]",
      "text/plain": [
       "<matplotlib.figure.Figure at 0x11212b198>"
      ]
     },
     "metadata": {},
     "output_type": "display_data"
    }
   ],
   "source": [
    "plt.plot(x, distribution)\n",
    "plt.ylabel('distribution')\n",
    "plt.xlabel('growth / decrease in percentage')\n",
    "plt.show()"
   ]
  },
  {
   "cell_type": "code",
   "execution_count": 14,
   "metadata": {},
   "outputs": [
    {
     "name": "stdout",
     "output_type": "stream",
     "text": [
      "-3.09546524741\n"
     ]
    }
   ],
   "source": [
    "outline = 0.05\n",
    "threshold = -20\n",
    "for i, value in enumerate(distribution):\n",
    "    if value < outline:\n",
    "        threshold = i\n",
    "threshold = x[threshold]\n",
    "print(threshold)"
   ]
  },
  {
   "cell_type": "markdown",
   "metadata": {},
   "source": [
    "So, if we want to separate only 5% of the worts weeks (=statistical outliers) -> we need to set up threshold on level 3,095% of decrease in 1 week. "
   ]
  },
  {
   "cell_type": "code",
   "execution_count": 21,
   "metadata": {},
   "outputs": [
    {
     "name": "stdout",
     "output_type": "stream",
     "text": [
      "number of all data objects =  3543\n\n\n% outlier\t% drop\t№ objects\n0.005\t-6.895\t18\n0.010\t-5.495\t35\n0.015\t-4.695\t53\n0.020\t-4.395\t71\n0.025\t-4.195\t89\n0.030\t-3.895\t106\n0.035\t-3.695\t124\n0.040\t-3.495\t142\n0.045\t-3.295\t159\n0.050\t-3.095\t177\n0.055\t-2.995\t195\n0.060\t-2.895\t213\n0.065\t-2.795\t230\n0.070\t-2.695\t248\n0.075\t-2.695\t266\n0.080\t-2.495\t283\n0.085\t-2.495\t301\n0.090\t-2.395\t319\n0.095\t-2.295\t337\n0.100\t-2.295\t354\n0.105\t-2.195\t372\n0.110\t-2.095\t390\n0.115\t-2.095\t407\n0.120\t-1.995\t425\n0.125\t-1.995\t443\n0.130\t-1.895\t461\n0.135\t-1.895\t478\n0.140\t-1.795\t496\n0.145\t-1.795\t514\n"
     ]
    }
   ],
   "source": [
    "print('number of all data objects = ', N)\n",
    "print('\\n')\n",
    "print('% outlier', '% drop', '№ objects', sep='\\t')\n",
    "for outline in frange(0.005, 0.15, 0.005):\n",
    "    threshold = -20\n",
    "    for i, value in enumerate(distribution):\n",
    "        if value < outline:\n",
    "            threshold = i\n",
    "    threshold = x[threshold]\n",
    "    print('%.3f' % round(outline, 3), '%.3f' % round(threshold, 3), '%.0f' % round(N*outline, 0), sep='\\t')"
   ]
  },
  {
   "cell_type": "code",
   "execution_count": null,
   "metadata": {},
   "outputs": [],
   "source": [
    ""
   ]
  }
 ],
 "metadata": {
  "kernelspec": {
   "display_name": "Python 2",
   "language": "python",
   "name": "python2"
  },
  "language_info": {
   "codemirror_mode": {
    "name": "ipython",
    "version": 2.0
   },
   "file_extension": ".py",
   "mimetype": "text/x-python",
   "name": "python",
   "nbconvert_exporter": "python",
   "pygments_lexer": "ipython2",
   "version": "2.7.11"
  }
 },
 "nbformat": 4,
 "nbformat_minor": 0
}