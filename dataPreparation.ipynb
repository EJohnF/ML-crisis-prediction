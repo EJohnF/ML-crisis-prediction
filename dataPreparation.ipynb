{
 "cells": [
  {
   "cell_type": "code",
   "execution_count": 1,
   "metadata": {
    "collapsed": true
   },
   "outputs": [],
   "source": [
    "import pandas as pd\n",
    "import numpy as np"
   ]
  },
  {
   "cell_type": "code",
   "execution_count": 2,
   "metadata": {},
   "outputs": [
    {
     "name": "stdout",
     "output_type": "stream",
     "text": [
      "0        1950-01-09\n1        1950-01-10\n2        1950-01-11\n3        1950-01-12\n4        1950-01-13\n5        1950-01-16\n6        1950-01-17\n7        1950-01-18\n8        1950-01-19\n9        1950-01-20\n10       1950-01-23\n11       1950-01-24\n12       1950-01-25\n13       1950-01-26\n14       1950-01-27\n15       1950-01-30\n16       1950-01-31\n17       1950-02-01\n18       1950-02-02\n19       1950-02-03\n20       1950-02-06\n21       1950-02-07\n22       1950-02-08\n23       1950-02-09\n24       1950-02-10\n25       1950-02-14\n26       1950-02-15\n27       1950-02-16\n28       1950-02-17\n29       1950-02-20\n            ...    \n17059    2017-10-24\n17060    2017-10-25\n17061    2017-10-26\n17062    2017-10-27\n17063    2017-10-30\n17064    2017-10-31\n17065    2017-11-01\n17066    2017-11-02\n17067    2017-11-03\n17068    2017-11-06\n17069    2017-11-07\n17070    2017-11-08\n17071    2017-11-09\n17072    2017-11-10\n17073    2017-11-13\n17074    2017-11-14\n17075    2017-11-15\n17076    2017-11-16\n17077    2017-11-17\n17078    2017-11-20\n17079    2017-11-21\n17080    2017-11-22\n17081    2017-11-24\n17082    2017-11-27\n17083    2017-11-28\n17084    2017-11-29\n17085    2017-11-30\n17086    2017-12-01\n17087    2017-12-04\n17088    2017-12-05\nName: Date, Length: 17089, dtype: object\n"
     ]
    }
   ],
   "source": [
    "pure_data = pd.read_csv('sp500_daily.csv', ',')\n",
    "N = len(pure_data['Date'])\n",
    "print(pure_data['Date'])"
   ]
  },
  {
   "cell_type": "code",
   "execution_count": null,
   "metadata": {},
   "outputs": [],
   "source": [
    ""
   ]
  }
 ],
 "metadata": {
  "kernelspec": {
   "display_name": "Python 2",
   "language": "python",
   "name": "python2"
  },
  "language_info": {
   "codemirror_mode": {
    "name": "ipython",
    "version": 2.0
   },
   "file_extension": ".py",
   "mimetype": "text/x-python",
   "name": "python",
   "nbconvert_exporter": "python",
   "pygments_lexer": "ipython2",
   "version": "2.7.6"
  }
 },
 "nbformat": 4,
 "nbformat_minor": 0
}